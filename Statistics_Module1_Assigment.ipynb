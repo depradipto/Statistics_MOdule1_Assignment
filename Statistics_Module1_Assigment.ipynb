{
  "nbformat": 4,
  "nbformat_minor": 0,
  "metadata": {
    "colab": {
      "provenance": []
    },
    "kernelspec": {
      "name": "python3",
      "display_name": "Python 3"
    },
    "language_info": {
      "name": "python"
    }
  },
  "cells": [
    {
      "cell_type": "markdown",
      "source": [
        "1. Explain the different types of data (qualitative and quantitative) and provide examples of each. Discuss nominal, ordinal, interval, and ratio scales.\n",
        " - Qualitative data is catagorical and Quantitative data is numerical data. Qualitative data type are: Discrete data and Continuous data. Quantitative data types are: Nominal and Ordinal data.\n",
        "\n",
        " a)Nominal-No order in data. Example- Blood Group,Gender.\n",
        " b)Ordinal- Ordered and Ranked Data. Exmple- Rank, Race & Ethnicity.\n",
        " c)Interval-Rank and Order has a maning and difference can be checked.\n",
        " d)Ratio Scales- Rank and order has a meaning. DIfferences and Ratios are measurable.\n",
        "\n",
        "2. What are the measures of central tendency, and when should you use each? Discuss the mean, median, and mode with examples and situations where each is appropriate.\n",
        " - Measure of central tendecy means findidng the mid value of any distributuion. It should be used for finding the mid value of any range of data.\n",
        " a)Mean is a type of measuring the mid value of a range but it susceptible to outlier values.\n",
        " b)Median finds the out the exact middle most observation of a given rang of data,and it is not susceptible to outliers.\n",
        " c)Mode is fiding the frequency of a varibale in a range, it finds out the most apprered or repeated value in a given range.\n",
        "\n",
        "3. Explain the concept of dispersion. How do variance and standard deviation measure the spread of data?\n",
        " -Dispersion means how much a data is spreadout. Variance measures the spread of data by using a sample mean subtracting it from all the class values, dividing it by number of values -1. Standard Deviation is just square root of variance.\n",
        "\n",
        "4. What is a box plot, and what can it tell you about the distribution of data.\n",
        " - A box plot visually represents a dataset’s distribution using the median, quartiles, and whiskers. It highlights central tendency, spread, skewness, and outliers, helping compare distributions, detect variability, and identify anomalies in data efficiently.\n",
        "\n",
        "5. Discuss the role of random sampling in making inferences about populations.\n",
        " - Random sampling ensures that every individual in a population has an equal chance of selection, reducing bias and increasing representativeness. It allows statisticians to make reliable inferences about a population from a sample, improving accuracy. Larger, well-randomized samples enhance generalizability, supporting valid conclusions in research, surveys, and experiments while minimizing sampling errors.\n",
        "\n",
        "6. Explain the concept of skewness and its types. How does skewness affect the interpretation of data?\n",
        " - Skewness means a shift of line graph towards a prfered side.\n",
        " When the 2nd quartile minus the 1st quartile is lesser than 3rd quartile minus the 2nd quartile the line grapgh makes tail on the right side which denotes right skewnness. Where as when the 2nd quartile minus the 1st quartile is greater than third quartile minus the 2nd quartile the line graph becomes ledt skewed or it has a tail on the left side at the start.\n",
        "\n",
        "7. What is the interquartile range (IQR), and how is it used to detect outliers?\n",
        " - The interquartile range (IQR) is the difference between the third quartile (Q3) and the first quartile (Q1), representing the middle 50% of a dataset.\n",
        "A common rule to detect outliers is:\n",
        "Lower Bound:\n",
        "𝑄1−1.5×𝐼𝑄𝑅\n",
        "Upper Bound:\n",
        "Q3+1.5×IQR\n",
        "\n",
        "8. Discuss the conditions under which the binomial distribution is used.\n",
        " - The binomial distribution applies when an experiment has n independent trials, each with two possible outcomes (success or failure). Conditions include a fixed number of trials, constant probability of success (p) per trial, and independent outcomes across trials.\n",
        "\n",
        "9. Explain the properties of the normal distribution and the empirical rule (68-95-99.7 rule).\n",
        " - The normal distribution is symmetric, bell-shaped, and defined by mean (μ) and standard deviation (σ). It follows the empirical rule: 68% of data falls within 1σ, 95% within 2σ, and 99.7% within 3σ of the mean. This helps in probability estimation, anomaly detection, and statistical inference in real-world data analysis.\n",
        "\n",
        "10. Provide a real-life example of a Poisson process and calculate the probability for a specific event.\n",
        " - A Poisson process models rare, independent events over time or space. Example: Calls arriving at a customer service center at an average rate of 5 calls per hour.\n",
        "\n",
        "11. Explain what a random variable is and differentiate between discrete and continuous random variables.\n",
        " - A random variable is a numerical outcome of a random process.\n",
        "\n",
        "a) Discrete random variables have countable values (e.g., dice rolls, number of calls received).\n",
        "b) Continuous random variables have infinite possible values within a range (e.g., height, temperature).\n",
        "Discrete variables use probability mass functions (PMF), while continuous variables use probability density functions (PDF).\n",
        "\n",
        "12. Provide an example dataset, calculate both covariance and correlation, and interpret the results.\n",
        " - Student\tStudy Hours (X)\tExam Score (Y)\n",
        "     1\t      2\t              50\n",
        "     2\t      3\t              55\n",
        "     3        5\t              65\n",
        "     4\t      7               70\n",
        "     5 \t      8  \t            80\n",
        "\n",
        "     Covariance = 30.0\n",
        "     Correlation = 0.986"
      ],
      "metadata": {
        "id": "ElYWEzmEJMHp"
      }
    }
  ]
}